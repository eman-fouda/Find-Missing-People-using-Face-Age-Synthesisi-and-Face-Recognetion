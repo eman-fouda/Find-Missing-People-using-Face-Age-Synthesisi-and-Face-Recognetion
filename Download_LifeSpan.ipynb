{
  "nbformat": 4,
  "nbformat_minor": 0,
  "metadata": {
    "colab": {
      "provenance": [],
      "authorship_tag": "ABX9TyNwvQwMbGvb4KUjLRay3Yx1",
      "include_colab_link": true
    },
    "kernelspec": {
      "name": "python3",
      "display_name": "Python 3"
    },
    "language_info": {
      "name": "python"
    }
  },
  "cells": [
    {
      "cell_type": "markdown",
      "metadata": {
        "id": "view-in-github",
        "colab_type": "text"
      },
      "source": [
        "<a href=\"https://colab.research.google.com/github/BOD-27/Find_Missing_People/blob/main/Download_LifeSpan.ipynb\" target=\"_parent\"><img src=\"https://colab.research.google.com/assets/colab-badge.svg\" alt=\"Open In Colab\"/></a>"
      ]
    },
    {
      "cell_type": "code",
      "execution_count": null,
      "metadata": {
        "id": "4IEmxJMv5_04"
      },
      "outputs": [],
      "source": [
        "import os\n",
        "from google.colab import drive\n",
        "drive.mount('/content/drive')"
      ]
    },
    {
      "cell_type": "code",
      "source": [
        "def importlibraries():\n",
        "    # No need to import from Google Drive, just import normally\n",
        "    global os, OrderedDict, TestOptions, CreateDataLoader, createmodel, util, Visualizer\n",
        "    import os\n",
        "    from collections import OrderedDict\n",
        "    from options.testoptions import TestOptions\n",
        "    from data.dataloader import CreateDataLoader\n",
        "    from models.models import create_model\n",
        "    import util.util as util\n",
        "    from util.visualizer import Visualizer\n",
        "\n",
        "def clone_repo_and_install_deps():\n",
        "    # Clone the repo and install dependencies\n",
        "    !git clone https://github.com/royorel/Lifespan_Age_Transformation_Synthesis\n",
        "    %cd Lifespan_Age_Transformation_Synthesis/\n",
        "    !pip3 install -r requirements.txt\n",
        "\n",
        "def download_models():\n",
        "    # Download models\n",
        "    !python download_models.py\n",
        "\n",
        "def move_to_drive():\n",
        "    # Move libraries and models to Google Drive\n",
        "    !mv /content/drive/MyDrive/LifeSpan_Downloads\n",
        "\n",
        "#After running the main function, you'll need to manually run the move_to_drive() function to move your files to Google Drive.\n",
        "def main():\n",
        "    # First, execute these functions to download and install dependencies\n",
        "    clone_repo_and_install_deps()\n",
        "    download_models()\n",
        "    # Then move them to Google Drive\n",
        "    move_to_drive()\n",
        "\n",
        "if __name__ == \"__main__\":\n",
        "    main()"
      ],
      "metadata": {
        "id": "i7X1ZASR6DZ2"
      },
      "execution_count": null,
      "outputs": []
    }
  ]
}